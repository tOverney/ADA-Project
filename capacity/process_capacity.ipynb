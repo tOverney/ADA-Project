{
 "cells": [
  {
   "cell_type": "code",
   "execution_count": null,
   "metadata": {
    "collapsed": true
   },
   "outputs": [],
   "source": [
    "import pickle\n",
    "import datetime\n",
    "import requests\n",
    "import time as ti\n",
    "import pandas as pd\n",
    "import time\n",
    "from itertools import count\n",
    "from dateutil.parser import parse"
   ]
  },
  {
   "cell_type": "code",
   "execution_count": null,
   "metadata": {
    "collapsed": false
   },
   "outputs": [],
   "source": [
    "error1 = \"data/error_2017-01-09.pkl\"\n",
    "e1 = pickle.load(open(error1, 'rb'))"
   ]
  },
  {
   "cell_type": "code",
   "execution_count": null,
   "metadata": {
    "collapsed": false
   },
   "outputs": [],
   "source": [
    "e1"
   ]
  },
  {
   "cell_type": "code",
   "execution_count": null,
   "metadata": {
    "collapsed": true
   },
   "outputs": [],
   "source": [
    "file_name = \"data/occupancy_2017-01-09.pkl\""
   ]
  },
  {
   "cell_type": "code",
   "execution_count": null,
   "metadata": {
    "collapsed": false
   },
   "outputs": [],
   "source": [
    "day_dict = pickle.load(open(file_name, 'rb'))"
   ]
  },
  {
   "cell_type": "code",
   "execution_count": null,
   "metadata": {
    "collapsed": false
   },
   "outputs": [],
   "source": [
    "len(day_dict)"
   ]
  },
  {
   "cell_type": "code",
   "execution_count": null,
   "metadata": {
    "collapsed": false
   },
   "outputs": [],
   "source": [
    "columns = ['route', 'trip', 'service', 'service_day', 'stop_time', 'capacity2nd', 'capacity1st']#'start', 'products']\n",
    "df = pd.DataFrame(columns=columns)\n",
    "\n",
    "ditch_stop =['132','133','134','135','136','137','138', '139', '140', '141','142','174','175', '176']\n",
    "date=\"2017-01-09\"\n",
    "\n",
    "for trip in day_dict:\n",
    "    backend = trip['backend']\n",
    "    transport = trip['transport']\n",
    "    #print(backend)\n",
    "    products = None\n",
    "    backend_stops = {stop['stop_id']: stop for stop in backend['stops'] if stop['stop_id'] not in ditch_stop}\n",
    "\n",
    "    for connection in transport['connections']:\n",
    "        passList = []\n",
    "        for section in connection['sections']:\n",
    "            if section['journey']:\n",
    "                passList = passList + section['journey']['passList']\n",
    "            \n",
    "        transport_stops = {stop['station']['id']:stop for stop in passList}\n",
    "        if backend_stops.keys() == transport_stops.keys():\n",
    "            break\n",
    "            \n",
    "    if not passList:\n",
    "        raise ValueError()\n",
    "\n",
    "    service_date = next((d['id'] for d in backend['service']['dates'] if d['date'] == date), None)\n",
    "    for k, v in backend_stops.items():\n",
    "        dn = pd.DataFrame(columns=columns, data=[[\n",
    "                    backend['route']['id'], \n",
    "                    backend['id'], \n",
    "                    backend['service']['id'],\n",
    "                    service_date,\n",
    "                    v['id'],\n",
    "                    transport_stops[k]['prognosis']['capacity1st'],\n",
    "                    transport_stops[k]['prognosis']['capacity2nd']\n",
    "                ]])\n",
    "        df = pd.concat([df,dn]) "
   ]
  },
  {
   "cell_type": "code",
   "execution_count": null,
   "metadata": {
    "collapsed": false
   },
   "outputs": [],
   "source": [
    "df.to_csv('2017-01-09_capacity.csv')"
   ]
  },
  {
   "cell_type": "code",
   "execution_count": null,
   "metadata": {
    "collapsed": false
   },
   "outputs": [],
   "source": [
    "len(df)"
   ]
  },
  {
   "cell_type": "code",
   "execution_count": null,
   "metadata": {
    "collapsed": false
   },
   "outputs": [],
   "source": [
    "df.sort_values(['stop_time'], ascending=True)"
   ]
  }
 ],
 "metadata": {
  "anaconda-cloud": {},
  "kernelspec": {
   "display_name": "Python [default]",
   "language": "python",
   "name": "python3"
  },
  "language_info": {
   "codemirror_mode": {
    "name": "ipython",
    "version": 3
   },
   "file_extension": ".py",
   "mimetype": "text/x-python",
   "name": "python",
   "nbconvert_exporter": "python",
   "pygments_lexer": "ipython3",
   "version": "3.5.2"
  }
 },
 "nbformat": 4,
 "nbformat_minor": 1
}
