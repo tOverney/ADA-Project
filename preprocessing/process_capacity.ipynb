{
 "cells": [
  {
   "cell_type": "code",
   "execution_count": null,
   "metadata": {
    "collapsed": false
   },
   "outputs": [],
   "source": [
    "import json\n",
    "import requests\n",
    "import pandas as pd\n",
    "import pickle\n",
    "from tqdm import tqdm_notebook as tqdm\n",
    "from math import radians, cos, sin, sqrt, atan2\n",
    "from IPython.display import display, HTML\n",
    "from datetime import datetime\n",
    "import itertools\n",
    "import time\n",
    "from itertools import count"
   ]
  },
  {
   "cell_type": "code",
   "execution_count": null,
   "metadata": {
    "collapsed": true
   },
   "outputs": [],
   "source": [
    "columns = [\n",
    "    'agency_id', \n",
    "    'service_date_id', 'service_date_date',\n",
    "    'route_id', 'route_short_name', 'route_long_name',\n",
    "    'trip_id', 'trip_headsign', 'trip_short_name',\n",
    "    'stop_time_id', 'stop_time_arrival_time', 'stop_time_departure_time', 'stop_time_stop_sequence', \n",
    "    'stop_id', 'stop_stop_id', 'stop_name', \n",
    "    'capacity_path_id', 'capacity_path_path', \n",
    "    'capacity_capacity_id', 'capacity_capacity_capacity1st', 'capacity_capacity_capacity2nd'\n",
    "]"
   ]
  },
  {
   "cell_type": "code",
   "execution_count": null,
   "metadata": {
    "collapsed": true
   },
   "outputs": [],
   "source": [
    "in_dir = \"in_data/\"\n",
    "out_dir = \"out_data/\""
   ]
  },
  {
   "cell_type": "markdown",
   "metadata": {},
   "source": [
    "---------"
   ]
  },
  {
   "cell_type": "code",
   "execution_count": null,
   "metadata": {
    "collapsed": true
   },
   "outputs": [],
   "source": [
    "def get_request_transport(params):\n",
    "    base_url=\"http://transport.opendata.ch/v1/connections\"\n",
    "    r = requests.get(base_url, params=params)\n",
    "    return r\n",
    "\n",
    "def print_back(trip, f, t ):\n",
    "    #print(trip['start'], trip['count'], f, t, trip['headsign'])\n",
    "    l = []\n",
    "    for index, stop in trip.iterrows():\n",
    "        l.append([stop['stop_stop_id'], stop['stop_time_stop_sequence'],  stop['stop_name']])\n",
    "        \n",
    "    return l\n",
    "        \n",
    "def print_tranposrt(connections):\n",
    "    l = []\n",
    "    for connection in connections:\n",
    "        for section in connection['sections']:\n",
    "            if section['journey']:\n",
    "                for i, stop in enumerate(section['journey']['passList']):\n",
    "                    l.append([stop['station']['id'], i,  stop['station']['name']])\n",
    "    return l\n",
    "\n",
    "def pretty_print(zip_val):\n",
    "    back  = [\"\",\"\",\"\"]\n",
    "    trans = [\"\",\"\",\"\"]\n",
    "    if zip_val[0]:\n",
    "        back = zip_val[0]\n",
    "    if zip_val[1]:\n",
    "        trans = zip_val[1]\n",
    "    print(\"{:<8s} {:<3s} {:20s} | {:<8s} {:<3s} {:10s}\".format(\n",
    "            str(back[0]),str(back[1]),str(back[2]), \n",
    "            str(trans[0]),str(trans[1]),str(trans[2])))\n",
    "\n",
    "def buzzergen(period):\n",
    "    nexttime = time.time() + period\n",
    "    for i in count():\n",
    "        now = time.time()\n",
    "        tosleep = nexttime - now\n",
    "        if tosleep > 0:\n",
    "            time.sleep(tosleep)\n",
    "            nexttime += period\n",
    "        else:\n",
    "            nexttime = now + period\n",
    "        yield i, nexttime"
   ]
  },
  {
   "cell_type": "markdown",
   "metadata": {},
   "source": [
    "---------------"
   ]
  },
  {
   "cell_type": "code",
   "execution_count": null,
   "metadata": {
    "collapsed": true
   },
   "outputs": [],
   "source": [
    "dates = ['2017-01-30','2017-01-31','2017-02-01','2017-02-02','2017-02-03','2017-02-04','2017-02-05']"
   ]
  },
  {
   "cell_type": "code",
   "execution_count": null,
   "metadata": {
    "collapsed": true
   },
   "outputs": [],
   "source": [
    "columns = [\n",
    "    'agency_id', \n",
    "    'service_date_id', 'service_date_date',\n",
    "    'route_id', 'route_short_name', 'route_long_name',\n",
    "    'trip_id', 'trip_headsign', 'trip_short_name',\n",
    "    'stop_time_id', 'stop_time_arrival_time', 'stop_time_departure_time', 'stop_time_stop_sequence', \n",
    "    'stop_id', 'stop_stop_id', 'stop_name', \n",
    "    'capacity_path_id', 'capacity_path_path', \n",
    "    'capacity_capacity_id', 'capacity_capacity_capacity1st', 'capacity_capacity_capacity2nd'\n",
    "]"
   ]
  },
  {
   "cell_type": "code",
   "execution_count": null,
   "metadata": {
    "collapsed": false
   },
   "outputs": [],
   "source": [
    "def process_trip(trip, date, time):\n",
    "    \n",
    "    def get_info_backend(trip):\n",
    "        stops = {}\n",
    "        for index, stop in trip.iterrows():\n",
    "            stops[str(stop['stop_stop_id'])] = stop\n",
    "        \n",
    "        min_seq = min(trip.stop_time_stop_sequence)\n",
    "        max_seq = max(trip.stop_time_stop_sequence)\n",
    "        \n",
    "        s = trip[trip.stop_time_stop_sequence == min_seq].stop_stop_id.item()\n",
    "        e = trip[trip.stop_time_stop_sequence == max_seq].stop_stop_id.item()   \n",
    "        return stops, s, e\n",
    "    \n",
    "    def get_info_transport(connections): \n",
    "        passList = []\n",
    "        for connection in connections:\n",
    "            journey_stops = {}\n",
    "            for section in connection['sections']:\n",
    "                if section['journey']:\n",
    "                    journey_stops.update({stop['station']['id']: stop for stop in section['journey']['passList']})\n",
    "\n",
    "            passList.append(journey_stops)\n",
    "\n",
    "        return passList\n",
    "    \n",
    "    stop_backend, s, e = get_info_backend(trip)\n",
    "    params = {\n",
    "        'from': s,\n",
    "        'to': e,\n",
    "        'date': date,\n",
    "        'time': time,\n",
    "        'direct':1,\n",
    "        'limit':1\n",
    "    }\n",
    "    \n",
    "    trans_r = get_request_transport(params)\n",
    "    try:\n",
    "        sections_transport = get_info_transport(trans_r.json()['connections'])\n",
    "    except Exception as e:\n",
    "        raise ValueError(trans_r.url, e)\n",
    "        \n",
    "    for journey in sections_transport:\n",
    "        if set(stop_backend.keys()) == set(journey.keys()):  \n",
    "            return sections_transport, trans_r.json()\n",
    "    \n",
    "    print(\"########## Error ##########\")\n",
    "    print(trans_r.url)\n",
    "    l_back = print_back(trip, s, e)\n",
    "    l_tans = print_tranposrt(trans_r.json()['connections'])\n",
    "    \n",
    "    l = list(itertools.zip_longest(l_back, l_tans))\n",
    "    \n",
    "    for v in l:\n",
    "        pretty_print(v)\n",
    "    \n",
    "    \n",
    "    raise ValueError(\"Stops mismatch\")  "
   ]
  },
  {
   "cell_type": "markdown",
   "metadata": {},
   "source": [
    "-------"
   ]
  },
  {
   "cell_type": "code",
   "execution_count": null,
   "metadata": {
    "collapsed": true
   },
   "outputs": [],
   "source": [
    "date = ['2017-02-02', '2017-02-03', '2017-02-04', '2017-02-05']"
   ]
  },
  {
   "cell_type": "code",
   "execution_count": null,
   "metadata": {
    "collapsed": false,
    "scrolled": true
   },
   "outputs": [],
   "source": [
    "buzz = buzzergen(0.4)\n",
    "for date in dates:\n",
    "    #date = '2017-01-30'\n",
    "    df = pd.read_csv(out_dir + date + '_processed.csv', index_col=0)\n",
    "    df.columns = columns\n",
    "    grouped = df.groupby(['trip_id', ])\n",
    "    error = []\n",
    "    out = pd.DataFrame(columns=columns)\n",
    "    \n",
    "    for name, group in tqdm(grouped, desc=\"Trips\"):\n",
    "        trip = group.sort_values(['stop_time_stop_sequence'])\n",
    "        start = datetime.fromtimestamp(trip[trip.stop_time_stop_sequence == 0].stop_time_departure_time).time()\n",
    "        \n",
    "        next(buzz)\n",
    "        \n",
    "        try:\n",
    "            # Check if already retrieved\n",
    "            for index, stop in trip.iterrows():\n",
    "                  if stop.capacity_capacity_capacity1st or stop.capacity_capacity_capacity2nd:\n",
    "                        continue\n",
    "\n",
    "            transport_stops, transport_json = process_trip(trip, date, start)   \n",
    "\n",
    "            for index, stop in trip.iterrows():\n",
    "                stop.capacity_capacity_capacity1st = transport_stops[0][str(stop['stop_stop_id'])]['prognosis']['capacity1st']\n",
    "                stop.capacity_capacity_capacity2nd = transport_stops[0][str(stop['stop_stop_id'])]['prognosis']['capacity2nd']\n",
    "                out = out.append(stop) \n",
    "\n",
    "        except ValueError as e:\n",
    "            print(\"=>\", e)\n",
    "            error.append(trip)\n",
    "        except Exception as e:\n",
    "            print(\"=>\",e)\n",
    "            error.append(trip)\n",
    "            \n",
    "    out.to_csv(out_dir + 'capacity_' + date + '.csv')\n",
    "    pickle.dump(error, open(out_dir + 'capacity_error_' + date + '.pkl', 'wb'), protocol=2)"
   ]
  },
  {
   "cell_type": "code",
   "execution_count": null,
   "metadata": {
    "collapsed": true
   },
   "outputs": [],
   "source": []
  }
 ],
 "metadata": {
  "anaconda-cloud": {},
  "kernelspec": {
   "display_name": "Python [default]",
   "language": "python",
   "name": "python3"
  },
  "language_info": {
   "codemirror_mode": {
    "name": "ipython",
    "version": 3
   },
   "file_extension": ".py",
   "mimetype": "text/x-python",
   "name": "python",
   "nbconvert_exporter": "python",
   "pygments_lexer": "ipython3",
   "version": "3.5.2"
  },
  "widgets": {
   "state": {
    "3a14176a29ee454ca95eae252c3ab954": {
     "views": [
      {
       "cell_index": 14
      }
     ]
    },
    "3e508a6dcdde4f728b676a02c7a8b55b": {
     "views": [
      {
       "cell_index": 14
      }
     ]
    },
    "61c9facc017946759a52898122bae7b7": {
     "views": [
      {
       "cell_index": 14
      }
     ]
    },
    "a52e684b83104919b37cff8af9938b5b": {
     "views": [
      {
       "cell_index": 14
      }
     ]
    },
    "bb10c56ba90c494c86ea268833fea862": {
     "views": [
      {
       "cell_index": 14
      }
     ]
    },
    "f0201d2b4bbf4a9f84c3782b0f3f6742": {
     "views": [
      {
       "cell_index": 14
      }
     ]
    },
    "f71bfdffb06b4533b3309d5e7afaf568": {
     "views": [
      {
       "cell_index": 14
      }
     ]
    }
   },
   "version": "1.2.0"
  }
 },
 "nbformat": 4,
 "nbformat_minor": 1
}
