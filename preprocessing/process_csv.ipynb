{
 "cells": [
  {
   "cell_type": "code",
   "execution_count": null,
   "metadata": {
    "collapsed": true
   },
   "outputs": [],
   "source": [
    "import json\n",
    "import requests\n",
    "import pickle\n",
    "import pandas as pd\n",
    "from tqdm import tqdm_notebook as tqdm\n",
    "from math import radians, cos, sin, sqrt, atan2"
   ]
  },
  {
   "cell_type": "markdown",
   "metadata": {},
   "source": [
    "Unfortunately, making the queries directly in django is complicated and it takes a long time to run. Instead, we query directly the database using [postico](https://eggerapps.at/postico/) and export the results to csv for further processing."
   ]
  },
  {
   "cell_type": "markdown",
   "metadata": {},
   "source": [
    "### PostgreSQL command\n",
    "\n",
    "You can use the following sql command to retrieve the data corresponding to one day."
   ]
  },
  {
   "cell_type": "markdown",
   "metadata": {},
   "source": [
    "    SELECT\n",
    "    agency.id,\n",
    "    service_date.id, service_date.date, \n",
    "    route.id, route.short_name, route.long_name,\n",
    "    trip.id, trip.headsign, trip.short_name,\n",
    "    stop_time.id, stop_time.arrival_time, stop_time.departure_time, stop_time.stop_sequence, \n",
    "    stop.id, stop.stop_id, stop.name, \n",
    "    capacity_path.id, capacity_path.path, \n",
    "    capacity_capacity.id, capacity_capacity.capacity1st, capacity_capacity.capacity2nd\n",
    "\n",
    "    FROM service_date\n",
    "    LEFT OUTER JOIN trip ON (service_date.service_id = trip.service_id)\n",
    "    LEFT OUTER JOIN route ON (route.id = trip.route_id)\n",
    "    LEFT OUTER JOIN agency ON (agency.id = route.agency_id)\n",
    "    LEFT OUTER JOIN stop_time ON (stop_time.trip_id = trip.id)\t\n",
    "    LEFT OUTER JOIN stop ON (stop.id = stop_time.stop_id)\n",
    "    LEFT OUTER JOIN capacity_path ON (capacity_path.trip_id = trip.id AND capacity_path.stop_id = stop.id)\n",
    "    LEFT OUTER JOIN capacity_capacity ON (capacity_capacity.trip_id = trip.id AND capacity_capacity.stop_id = stop.id AND capacity_capacity.service_date_id = service_date.id)\n",
    "    WHERE \n",
    "    (agency.id = 31) \n",
    "    AND service_date.date = '2017-01-30'\n",
    "    AND stop.stop_id NOT IN ('132','133','134','135','136','137','138', '139', '140', '141','142','174','175', '176')\n",
    "    ORDER BY \n",
    "    trip.id ASC,\n",
    "    stop_time.stop_sequence ASC"
   ]
  },
  {
   "cell_type": "markdown",
   "metadata": {},
   "source": [
    "--------"
   ]
  },
  {
   "cell_type": "markdown",
   "metadata": {},
   "source": [
    "### Helper"
   ]
  },
  {
   "cell_type": "code",
   "execution_count": null,
   "metadata": {
    "collapsed": true
   },
   "outputs": [],
   "source": [
    "def strip_id(s):\n",
    "    try:\n",
    "        index = s.index(':')\n",
    "    except ValueError:\n",
    "        index = len(s)\n",
    "    return s[:index]"
   ]
  },
  {
   "cell_type": "code",
   "execution_count": null,
   "metadata": {
    "collapsed": true
   },
   "outputs": [],
   "source": [
    "columns = [\n",
    "    'agency_id', \n",
    "    'service_date_id', 'service_date_date',\n",
    "    'route_id', 'route_short_name', 'route_long_name',\n",
    "    'trip_id', 'trip_headsign', 'trip_short_name',\n",
    "    'stop_time_id', 'stop_time_arrival_time', 'stop_time_departure_time', 'stop_time_stop_sequence', \n",
    "    'stop_id', 'stop_stop_id', 'stop_name', \n",
    "    'capacity_path_id', 'capacity_path_path', \n",
    "    'capacity_capacity_id', 'capacity_capacity_capacity1st', 'capacity_capacity_capacity2nd'\n",
    "]"
   ]
  },
  {
   "cell_type": "code",
   "execution_count": null,
   "metadata": {
    "collapsed": true
   },
   "outputs": [],
   "source": [
    "in_dir = \"in_data/\"\n",
    "out_dir = \"out_data/\""
   ]
  },
  {
   "cell_type": "markdown",
   "metadata": {},
   "source": [
    "-----------------"
   ]
  },
  {
   "cell_type": "markdown",
   "metadata": {},
   "source": [
    "We process the CSV to stem the stop_id as they are currently not in the official form. The geops dataset add a suffix to each stop_id if they correspond to differente route."
   ]
  },
  {
   "cell_type": "code",
   "execution_count": null,
   "metadata": {
    "collapsed": true
   },
   "outputs": [],
   "source": [
    "dates = ['2017-01-30','2017-01-31','2017-02-01','2017-02-02','2017-02-03','2017-02-04','2017-02-05']"
   ]
  },
  {
   "cell_type": "code",
   "execution_count": null,
   "metadata": {
    "collapsed": false
   },
   "outputs": [],
   "source": [
    "for date in dates:\n",
    "    file = in_dir + date + '.csv'\n",
    "    df = pd.read_csv(file) \n",
    "    df.columns = columns\n",
    "    \n",
    "    df['stop_stop_id'] = df['stop_stop_id'].apply(lambda x: strip_id(x))\n",
    "    \n",
    "    df.to_csv(out_dir + date + '_processed.csv')"
   ]
  },
  {
   "cell_type": "markdown",
   "metadata": {},
   "source": [
    "-----------"
   ]
  }
 ],
 "metadata": {
  "anaconda-cloud": {},
  "kernelspec": {
   "display_name": "Python [conda env:ada]",
   "language": "python",
   "name": "conda-env-ada-py"
  },
  "language_info": {
   "codemirror_mode": {
    "name": "ipython",
    "version": 3
   },
   "file_extension": ".py",
   "mimetype": "text/x-python",
   "name": "python",
   "nbconvert_exporter": "python",
   "pygments_lexer": "ipython3",
   "version": "3.5.2"
  }
 },
 "nbformat": 4,
 "nbformat_minor": 1
}
